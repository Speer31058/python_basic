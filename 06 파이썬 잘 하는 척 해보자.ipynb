{
 "cells": [
  {
   "cell_type": "markdown",
   "id": "tight-manner",
   "metadata": {},
   "source": [
    "# 06. 파이썬 잘 하는 척 해보자\n",
    "### [ 목차 ]\n",
    "#### 1. For\n",
    "#### 2. Try - Except\n",
    "#### 3. Function & Lambda\n",
    "#### 4. Map"
   ]
  },
  {
   "cell_type": "markdown",
   "id": "dress-venezuela",
   "metadata": {},
   "source": [
    "## 1. For"
   ]
  },
  {
   "cell_type": "code",
   "execution_count": 6,
   "id": "equipped-performance",
   "metadata": {},
   "outputs": [
    {
     "name": "stdout",
     "output_type": "stream",
     "text": [
      "time : 0.00026679039001464844 sec\n"
     ]
    }
   ],
   "source": [
    "import time\n",
    "\n",
    "start = time.time()\n",
    "\n",
    "a = 1\n",
    "for i in range(100):\n",
    "    a += 1\n",
    "    \n",
    "end = time.time()\n",
    "\n",
    "print(f\"time : {end - start} sec\")"
   ]
  },
  {
   "cell_type": "code",
   "execution_count": 7,
   "id": "determined-vacation",
   "metadata": {},
   "outputs": [
    {
     "name": "stdout",
     "output_type": "stream",
     "text": [
      "my_list[0] = a\n",
      "my_list[1] = b\n",
      "my_list[2] = c\n",
      "my_list[3] = d\n"
     ]
    }
   ],
   "source": [
    "my_list = ['a', 'b', 'c', 'd']\n",
    "\n",
    "for i, value in enumerate(my_list):\n",
    "    print(f\"my_list[{i}] = {value}\")"
   ]
  },
  {
   "cell_type": "code",
   "execution_count": 10,
   "id": "double-footage",
   "metadata": {},
   "outputs": [
    {
     "name": "stdout",
     "output_type": "stream",
     "text": [
      "[1, 2, 3, 4, 5]\n",
      "[2, 4, 6, 8, 10]\n"
     ]
    }
   ],
   "source": [
    "my_list = [1, 2, 3, 4, 5]\n",
    "\n",
    "result_list = [i*2 for i in my_list]\n",
    "\n",
    "print(my_list)\n",
    "print(result_list)"
   ]
  },
  {
   "cell_type": "markdown",
   "id": "paperback-variable",
   "metadata": {},
   "source": [
    "## 2. Try - Except"
   ]
  },
  {
   "cell_type": "code",
   "execution_count": 13,
   "id": "standard-straight",
   "metadata": {},
   "outputs": [
    {
     "name": "stdout",
     "output_type": "stream",
     "text": [
      "5.0\n"
     ]
    }
   ],
   "source": [
    "a = 10\n",
    "b = 2\n",
    "\n",
    "try:\n",
    "    print(a/b)\n",
    "except:\n",
    "    print(\"에러 발생!!\")"
   ]
  },
  {
   "cell_type": "code",
   "execution_count": 14,
   "id": "fewer-organ",
   "metadata": {},
   "outputs": [
    {
     "name": "stdout",
     "output_type": "stream",
     "text": [
      "에러 발생!!\n"
     ]
    }
   ],
   "source": [
    "a = 10\n",
    "b = 0\n",
    "\n",
    "try:\n",
    "    print(a/b)\n",
    "except:\n",
    "    print(\"에러 발생!!\")"
   ]
  },
  {
   "cell_type": "markdown",
   "id": "brave-hayes",
   "metadata": {},
   "source": [
    "## 3. Function & Lambda"
   ]
  },
  {
   "cell_type": "code",
   "execution_count": 15,
   "id": "french-setup",
   "metadata": {},
   "outputs": [
    {
     "name": "stdout",
     "output_type": "stream",
     "text": [
      "5\n"
     ]
    }
   ],
   "source": [
    "def add(x, y):\n",
    "    return x + y\n",
    "\n",
    "print(add(2,3))"
   ]
  },
  {
   "cell_type": "code",
   "execution_count": 18,
   "id": "registered-lawyer",
   "metadata": {},
   "outputs": [
    {
     "name": "stdout",
     "output_type": "stream",
     "text": [
      "5\n"
     ]
    }
   ],
   "source": [
    "print((lambda x, y: x+y)(2,3))"
   ]
  },
  {
   "cell_type": "markdown",
   "id": "ranging-stage",
   "metadata": {},
   "source": [
    "## 4. Map"
   ]
  },
  {
   "cell_type": "code",
   "execution_count": 19,
   "id": "dangerous-newman",
   "metadata": {},
   "outputs": [
    {
     "name": "stdout",
     "output_type": "stream",
     "text": [
      "[1.2, 2.5, 3.7, 4.6]\n",
      "[1, 2, 3, 4]\n"
     ]
    }
   ],
   "source": [
    "a = [1.2, 2.5, 3.7, 4.6]\n",
    "print(a)\n",
    "\n",
    "a = list(map(int, a))\n",
    "print(a)"
   ]
  }
 ],
 "metadata": {
  "kernelspec": {
   "display_name": "aiffel",
   "language": "python",
   "name": "aiffel"
  },
  "language_info": {
   "codemirror_mode": {
    "name": "ipython",
    "version": 3
   },
   "file_extension": ".py",
   "mimetype": "text/x-python",
   "name": "python",
   "nbconvert_exporter": "python",
   "pygments_lexer": "ipython3",
   "version": "3.7.9"
  }
 },
 "nbformat": 4,
 "nbformat_minor": 5
}
