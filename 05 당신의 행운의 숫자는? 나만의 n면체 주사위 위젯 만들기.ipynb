{
 "cells": [
  {
   "cell_type": "markdown",
   "id": "moral-berlin",
   "metadata": {},
   "source": [
    "# 05. 당신의 행운의 숫자는? 나만의 n면체 주사위 위젯 만들기"
   ]
  },
  {
   "cell_type": "code",
   "execution_count": 15,
   "id": "improved-smart",
   "metadata": {},
   "outputs": [
    {
     "name": "stdout",
     "output_type": "stream",
     "text": [
      "주사위 면의 개수를 입력하세요 :6\n",
      "주사위를 굴립니다.\n",
      "주사위 눈 : 5\n"
     ]
    }
   ],
   "source": [
    "import random\n",
    "import numpy as np\n",
    "\n",
    "class FunnyDice:\n",
    "    def __init__(self, n=6):\n",
    "        self.n = n\n",
    "        self.options = list(range(1, n+1))\n",
    "        self.index = random.choice(np.arange(6))\n",
    "        self.val = self.options[self.index]\n",
    "        \n",
    "    def throw(self):\n",
    "        self.index = random.choice(np.arange(6))\n",
    "        self.val = self.options[self.index]\n",
    "    \n",
    "    def get_val(self):\n",
    "        return self.val\n",
    "    \n",
    "    def set_val(self, val):\n",
    "        if val <= self.n:\n",
    "            self.val = val\n",
    "        else:\n",
    "            print(\"주사위에 없는 숫자입니다. 주사위는 1 ~ {}까지 있습니다.\".format(self.n))\n",
    "    \n",
    "def get_inputs():\n",
    "    n = int(input(\"주사위 면의 개수를 입력하세요 :\"))\n",
    "    return n\n",
    "\n",
    "def main():\n",
    "    n = get_inputs()\n",
    "    mydice = FunnyDice(n)\n",
    "    \n",
    "    print(\"주사위를 굴립니다.\")\n",
    "    mydice.throw()\n",
    "    \n",
    "    print(\"주사위 눈 : {}\".format(mydice.get_val()))\n",
    "    \n",
    "if __name__ == \"__main__\":\n",
    "    main()"
   ]
  }
 ],
 "metadata": {
  "kernelspec": {
   "display_name": "aiffel",
   "language": "python",
   "name": "aiffel"
  },
  "language_info": {
   "codemirror_mode": {
    "name": "ipython",
    "version": 3
   },
   "file_extension": ".py",
   "mimetype": "text/x-python",
   "name": "python",
   "nbconvert_exporter": "python",
   "pygments_lexer": "ipython3",
   "version": "3.7.9"
  }
 },
 "nbformat": 4,
 "nbformat_minor": 5
}
