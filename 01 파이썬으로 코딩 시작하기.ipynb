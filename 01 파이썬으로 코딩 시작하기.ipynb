{
 "cells": [
  {
   "cell_type": "markdown",
   "id": "completed-letter",
   "metadata": {},
   "source": [
    "# 01. 파이썬으로 코딩 시작하기\n",
    "### [ 목차 ]\n",
    "#### 1. 변수(variable)\n",
    "#### 2. 연산자(operator)\n",
    "#### 3. 함수(function)\n",
    "#### 4. 제어문(control statements)\n",
    "#### 5. 자료형(data types)"
   ]
  },
  {
   "cell_type": "markdown",
   "id": "subject-running",
   "metadata": {},
   "source": [
    "## 1. 변수 (variable)"
   ]
  },
  {
   "cell_type": "code",
   "execution_count": 1,
   "id": "latin-shareware",
   "metadata": {},
   "outputs": [
    {
     "name": "stdout",
     "output_type": "stream",
     "text": [
      "100\n"
     ]
    }
   ],
   "source": [
    "number = 100\n",
    "\n",
    "print(number)"
   ]
  },
  {
   "cell_type": "code",
   "execution_count": 2,
   "id": "configured-stamp",
   "metadata": {},
   "outputs": [
    {
     "name": "stdout",
     "output_type": "stream",
     "text": [
      "안녕하세요?\n"
     ]
    }
   ],
   "source": [
    "greeting = \"안녕하세요?\"\n",
    "\n",
    "print(greeting)"
   ]
  },
  {
   "cell_type": "markdown",
   "id": "vulnerable-sheep",
   "metadata": {},
   "source": [
    "## 2. 연산자 (operator)"
   ]
  },
  {
   "cell_type": "code",
   "execution_count": 3,
   "id": "respective-speech",
   "metadata": {},
   "outputs": [
    {
     "name": "stdout",
     "output_type": "stream",
     "text": [
      "2\n"
     ]
    }
   ],
   "source": [
    "print(1 + 1)"
   ]
  },
  {
   "cell_type": "code",
   "execution_count": 4,
   "id": "gross-treasurer",
   "metadata": {},
   "outputs": [
    {
     "name": "stdout",
     "output_type": "stream",
     "text": [
      "Hello world!\n"
     ]
    }
   ],
   "source": [
    "print(\"Hello\" + \" \" + \"world!\")"
   ]
  },
  {
   "cell_type": "markdown",
   "id": "square-supplement",
   "metadata": {},
   "source": [
    "## 3. 함수 (function)"
   ]
  },
  {
   "cell_type": "code",
   "execution_count": 5,
   "id": "interstate-alcohol",
   "metadata": {},
   "outputs": [
    {
     "name": "stdout",
     "output_type": "stream",
     "text": [
      "안녕!\n"
     ]
    }
   ],
   "source": [
    "def say_hi():\n",
    "    print(\"안녕!\")\n",
    "    \n",
    "say_hi()"
   ]
  },
  {
   "cell_type": "code",
   "execution_count": 6,
   "id": "confidential-motorcycle",
   "metadata": {},
   "outputs": [
    {
     "name": "stdout",
     "output_type": "stream",
     "text": [
      "하루\n",
      "하루\n"
     ]
    }
   ],
   "source": [
    "name = \"하루\"\n",
    "\n",
    "def change_name():\n",
    "    name = \"시우\"\n",
    "    \n",
    "print(name)\n",
    "\n",
    "change_name()\n",
    "\n",
    "print(name)"
   ]
  },
  {
   "cell_type": "code",
   "execution_count": 7,
   "id": "worthy-display",
   "metadata": {},
   "outputs": [
    {
     "name": "stdout",
     "output_type": "stream",
     "text": [
      "somebody, 안녕!\n",
      "준이, 안녕!\n"
     ]
    }
   ],
   "source": [
    "def say_hi_somebody(name=\"somebody\"):\n",
    "    print(name + \", 안녕!\")\n",
    "    \n",
    "say_hi_somebody()\n",
    "say_hi_somebody(\"준이\")"
   ]
  },
  {
   "cell_type": "code",
   "execution_count": 8,
   "id": "gothic-vanilla",
   "metadata": {},
   "outputs": [
    {
     "name": "stdout",
     "output_type": "stream",
     "text": [
      "nobody1, nobody2 안녕!\n",
      "그리, nobody2 안녕!\n",
      "nobody1, 단테 안녕!\n",
      "그리, 단테 안녕!\n"
     ]
    }
   ],
   "source": [
    "def say_hi_couple(name1=\"nobody1\", name2=\"nobody2\"):\n",
    "    print(name1 + \", \" + name2 + \" 안녕!\")\n",
    "\n",
    "say_hi_couple()\n",
    "say_hi_couple(name1 = \"그리\")\n",
    "say_hi_couple(name2 = \"단테\")\n",
    "say_hi_couple(\"그리\", \"단테\")"
   ]
  },
  {
   "cell_type": "code",
   "execution_count": 9,
   "id": "assured-opposition",
   "metadata": {},
   "outputs": [
    {
     "name": "stdout",
     "output_type": "stream",
     "text": [
      "5\n",
      "5\n"
     ]
    }
   ],
   "source": [
    "def print_add(number1, number2):\n",
    "    add = number1 + number2\n",
    "    print(add)\n",
    "    \n",
    "def return_add(number1, number2):\n",
    "    add = number1 + number2\n",
    "    return add\n",
    "\n",
    "print_add(2, 3)\n",
    "\n",
    "add = return_add(2, 3)\n",
    "print(add)"
   ]
  },
  {
   "cell_type": "markdown",
   "id": "amateur-lending",
   "metadata": {},
   "source": [
    "## 4. 제어문 (control statements)"
   ]
  },
  {
   "cell_type": "markdown",
   "id": "satisfactory-objective",
   "metadata": {},
   "source": [
    "### 1) if"
   ]
  },
  {
   "cell_type": "code",
   "execution_count": 10,
   "id": "otherwise-tiger",
   "metadata": {},
   "outputs": [
    {
     "name": "stdout",
     "output_type": "stream",
     "text": [
      "+\n",
      "0\n",
      "-\n"
     ]
    }
   ],
   "source": [
    "def print_whether_positive_or_negative_or_zero(number):\n",
    "    if number > 0:\n",
    "        print(\"+\")\n",
    "    elif number == 0:\n",
    "        print(\"0\")\n",
    "    else:\n",
    "        print(\"-\")\n",
    "        \n",
    "print_whether_positive_or_negative_or_zero(1)\n",
    "print_whether_positive_or_negative_or_zero(0)\n",
    "print_whether_positive_or_negative_or_zero(-1)"
   ]
  },
  {
   "cell_type": "code",
   "execution_count": 11,
   "id": "satisfactory-cooperation",
   "metadata": {},
   "outputs": [
    {
     "name": "stdout",
     "output_type": "stream",
     "text": [
      "odd\n",
      "even\n"
     ]
    }
   ],
   "source": [
    "def print_if_even_or_odd(number):\n",
    "    if (number % 2) == 0:\n",
    "        print(\"even\")\n",
    "    else:\n",
    "        print(\"odd\")\n",
    "        \n",
    "print_if_even_or_odd(1)\n",
    "print_if_even_or_odd(2)"
   ]
  },
  {
   "cell_type": "markdown",
   "id": "duplicate-emergency",
   "metadata": {},
   "source": [
    "### 2) while"
   ]
  },
  {
   "cell_type": "code",
   "execution_count": 12,
   "id": "august-darkness",
   "metadata": {},
   "outputs": [
    {
     "name": "stdout",
     "output_type": "stream",
     "text": [
      "1\n",
      "2\n",
      "3\n",
      "4\n",
      "5\n",
      "6\n",
      "7\n",
      "8\n",
      "9\n",
      "10\n",
      "끝!\n"
     ]
    }
   ],
   "source": [
    "n = 1\n",
    "while n <= 10:\n",
    "    print(n)\n",
    "    n = n + 1\n",
    "print(\"끝!\")"
   ]
  },
  {
   "cell_type": "markdown",
   "id": "devoted-range",
   "metadata": {},
   "source": [
    "### 3) for"
   ]
  },
  {
   "cell_type": "code",
   "execution_count": 13,
   "id": "clear-thumb",
   "metadata": {},
   "outputs": [
    {
     "name": "stdout",
     "output_type": "stream",
     "text": [
      "H\n",
      "e\n",
      "l\n",
      "l\n",
      "o\n"
     ]
    }
   ],
   "source": [
    "for character in \"Hello\":\n",
    "    print(character)"
   ]
  },
  {
   "cell_type": "code",
   "execution_count": 14,
   "id": "expired-operator",
   "metadata": {},
   "outputs": [
    {
     "name": "stdout",
     "output_type": "stream",
     "text": [
      "0\n",
      "1\n",
      "2\n",
      "3\n",
      "4\n",
      "5\n",
      "6\n",
      "7\n",
      "8\n",
      "9\n"
     ]
    }
   ],
   "source": [
    "for number in range(10):\n",
    "    print(number)"
   ]
  },
  {
   "cell_type": "code",
   "execution_count": 15,
   "id": "civic-helping",
   "metadata": {},
   "outputs": [
    {
     "name": "stdout",
     "output_type": "stream",
     "text": [
      "1\n",
      "2\n",
      "3\n",
      "4\n",
      "5\n",
      "6\n",
      "7\n",
      "8\n",
      "9\n"
     ]
    }
   ],
   "source": [
    "for number in range(1, 10):\n",
    "    print(number)"
   ]
  },
  {
   "cell_type": "code",
   "execution_count": 16,
   "id": "former-champagne",
   "metadata": {},
   "outputs": [
    {
     "name": "stdout",
     "output_type": "stream",
     "text": [
      "1\n",
      "3\n",
      "5\n",
      "7\n",
      "9\n"
     ]
    }
   ],
   "source": [
    "for number in range(1, 10, 2):\n",
    "    print(number)"
   ]
  },
  {
   "cell_type": "markdown",
   "id": "formed-miller",
   "metadata": {},
   "source": [
    "## 5. 자료형 (data types)"
   ]
  },
  {
   "cell_type": "markdown",
   "id": "polished-cartoon",
   "metadata": {},
   "source": [
    "### 1) 정수 (integer)"
   ]
  },
  {
   "cell_type": "code",
   "execution_count": 17,
   "id": "straight-range",
   "metadata": {},
   "outputs": [
    {
     "name": "stdout",
     "output_type": "stream",
     "text": [
      "1\n",
      "<class 'int'>\n"
     ]
    }
   ],
   "source": [
    "print(1)\n",
    "print(type(1))"
   ]
  },
  {
   "cell_type": "code",
   "execution_count": 18,
   "id": "acknowledged-today",
   "metadata": {},
   "outputs": [
    {
     "name": "stdout",
     "output_type": "stream",
     "text": [
      "1024\n",
      "<class 'int'>\n"
     ]
    }
   ],
   "source": [
    "number = 2**10\n",
    "\n",
    "print(number)\n",
    "print(type(number))"
   ]
  },
  {
   "cell_type": "markdown",
   "id": "cosmetic-module",
   "metadata": {},
   "source": [
    "### 2) 부동소수점 수 (float)"
   ]
  },
  {
   "cell_type": "code",
   "execution_count": 19,
   "id": "opposed-proxy",
   "metadata": {},
   "outputs": [
    {
     "name": "stdout",
     "output_type": "stream",
     "text": [
      "1.0\n",
      "<class 'float'>\n"
     ]
    }
   ],
   "source": [
    "print(1.0)\n",
    "print(type(1.0))"
   ]
  },
  {
   "cell_type": "code",
   "execution_count": 20,
   "id": "bigger-bacon",
   "metadata": {},
   "outputs": [
    {
     "name": "stdout",
     "output_type": "stream",
     "text": [
      "1.0\n",
      "<class 'float'>\n"
     ]
    }
   ],
   "source": [
    "print(float(1))\n",
    "print(type(float(1)))"
   ]
  },
  {
   "cell_type": "code",
   "execution_count": 21,
   "id": "swiss-number",
   "metadata": {},
   "outputs": [
    {
     "name": "stdout",
     "output_type": "stream",
     "text": [
      "1\n",
      "<class 'int'>\n"
     ]
    }
   ],
   "source": [
    "print(int(1.0))\n",
    "print(type(int(1.0)))"
   ]
  },
  {
   "cell_type": "markdown",
   "id": "organized-gender",
   "metadata": {},
   "source": [
    "### 3) NoneType"
   ]
  },
  {
   "cell_type": "code",
   "execution_count": 22,
   "id": "compressed-aviation",
   "metadata": {},
   "outputs": [
    {
     "name": "stdout",
     "output_type": "stream",
     "text": [
      "None\n",
      "<class 'NoneType'>\n"
     ]
    }
   ],
   "source": [
    "print(None)\n",
    "print(type(None))"
   ]
  },
  {
   "cell_type": "markdown",
   "id": "equal-dominican",
   "metadata": {},
   "source": [
    "### 4) 불리언 (boolean)"
   ]
  },
  {
   "cell_type": "code",
   "execution_count": 23,
   "id": "generous-wednesday",
   "metadata": {},
   "outputs": [
    {
     "name": "stdout",
     "output_type": "stream",
     "text": [
      "True\n",
      "<class 'bool'>\n",
      "\n",
      "False\n",
      "<class 'bool'>\n",
      "\n"
     ]
    }
   ],
   "source": [
    "print(True)\n",
    "print(type(True))\n",
    "print()\n",
    "\n",
    "print(False)\n",
    "print(type(False))\n",
    "print()"
   ]
  },
  {
   "cell_type": "code",
   "execution_count": 24,
   "id": "unique-sweet",
   "metadata": {},
   "outputs": [
    {
     "name": "stdout",
     "output_type": "stream",
     "text": [
      "False\n",
      "True\n"
     ]
    }
   ],
   "source": [
    "print(not True)\n",
    "print(not not  True)"
   ]
  },
  {
   "cell_type": "code",
   "execution_count": 25,
   "id": "primary-stanford",
   "metadata": {},
   "outputs": [
    {
     "name": "stdout",
     "output_type": "stream",
     "text": [
      "False\n",
      "False\n",
      "True\n"
     ]
    }
   ],
   "source": [
    "print(bool(None))\n",
    "print(bool(0))\n",
    "print(bool(5))"
   ]
  },
  {
   "cell_type": "markdown",
   "id": "secondary-amber",
   "metadata": {},
   "source": [
    "### 5) 문자열 (string)"
   ]
  },
  {
   "cell_type": "code",
   "execution_count": 26,
   "id": "coral-respondent",
   "metadata": {},
   "outputs": [
    {
     "name": "stdout",
     "output_type": "stream",
     "text": [
      "Hello\n",
      "<class 'str'>\n"
     ]
    }
   ],
   "source": [
    "print(\"Hello\")\n",
    "print(type(\"Hello\"))"
   ]
  },
  {
   "cell_type": "code",
   "execution_count": 27,
   "id": "logical-equality",
   "metadata": {},
   "outputs": [
    {
     "name": "stdout",
     "output_type": "stream",
     "text": [
      "Line1\n",
      "Line2\n",
      "Line3\n"
     ]
    }
   ],
   "source": [
    "print(\"\"\"Line1\n",
    "Line2\n",
    "Line3\"\"\")"
   ]
  },
  {
   "cell_type": "code",
   "execution_count": 28,
   "id": "atomic-salvation",
   "metadata": {},
   "outputs": [
    {
     "name": "stdout",
     "output_type": "stream",
     "text": [
      "H\n",
      "e\n",
      "o\n",
      "Hell\n",
      "llo\n",
      "He\n"
     ]
    }
   ],
   "source": [
    "message = \"Hello\"\n",
    "\n",
    "print(message[0])\n",
    "print(message[1])\n",
    "print(message[-1])\n",
    "print(message[0:4])\n",
    "print(message[2:])\n",
    "print(message[:2])"
   ]
  },
  {
   "cell_type": "markdown",
   "id": "precious-school",
   "metadata": {},
   "source": [
    "### 6) 튜플 (tuple)"
   ]
  },
  {
   "cell_type": "code",
   "execution_count": 29,
   "id": "illegal-racing",
   "metadata": {},
   "outputs": [
    {
     "name": "stdout",
     "output_type": "stream",
     "text": [
      "(1, 2)\n",
      "('3', '4')\n",
      "(1, 2, '3', '4')\n",
      "<class 'tuple'> <class 'tuple'> <class 'tuple'>\n"
     ]
    }
   ],
   "source": [
    "tuple_number = (1, 2)\n",
    "tuple_string = ('3', '4')\n",
    "tuple_mixed = (1, 2, '3', '4')\n",
    "\n",
    "print(tuple_number)\n",
    "print(tuple_string)\n",
    "print(tuple_mixed)\n",
    "print(type(tuple_number), type(tuple_string), type(tuple_mixed))"
   ]
  },
  {
   "cell_type": "code",
   "execution_count": 30,
   "id": "unsigned-bridges",
   "metadata": {},
   "outputs": [
    {
     "name": "stdout",
     "output_type": "stream",
     "text": [
      "(1, 1, 2)\n"
     ]
    },
    {
     "ename": "TypeError",
     "evalue": "'tuple' object does not support item assignment",
     "output_type": "error",
     "traceback": [
      "\u001b[0;31m---------------------------------------------------------------------------\u001b[0m",
      "\u001b[0;31mTypeError\u001b[0m                                 Traceback (most recent call last)",
      "\u001b[0;32m<ipython-input-30-7cb47420d8f0>\u001b[0m in \u001b[0;36m<module>\u001b[0;34m\u001b[0m\n\u001b[1;32m      2\u001b[0m \u001b[0mprint\u001b[0m\u001b[0;34m(\u001b[0m\u001b[0mtuple_012\u001b[0m\u001b[0;34m)\u001b[0m\u001b[0;34m\u001b[0m\u001b[0;34m\u001b[0m\u001b[0m\n\u001b[1;32m      3\u001b[0m \u001b[0;34m\u001b[0m\u001b[0m\n\u001b[0;32m----> 4\u001b[0;31m \u001b[0mtuple_012\u001b[0m\u001b[0;34m[\u001b[0m\u001b[0;36m0\u001b[0m\u001b[0;34m]\u001b[0m \u001b[0;34m=\u001b[0m \u001b[0;36m0\u001b[0m    \u001b[0;31m# error\u001b[0m\u001b[0;34m\u001b[0m\u001b[0;34m\u001b[0m\u001b[0m\n\u001b[0m",
      "\u001b[0;31mTypeError\u001b[0m: 'tuple' object does not support item assignment"
     ]
    }
   ],
   "source": [
    "tuple_012 = (1, 1, 2)\n",
    "print(tuple_012)\n",
    "\n",
    "tuple_012[0] = 0    # error"
   ]
  },
  {
   "cell_type": "markdown",
   "id": "dense-sheep",
   "metadata": {},
   "source": [
    "### 7) 리스트 (list)"
   ]
  },
  {
   "cell_type": "code",
   "execution_count": 31,
   "id": "formed-employer",
   "metadata": {},
   "outputs": [
    {
     "name": "stdout",
     "output_type": "stream",
     "text": [
      "[1, 2]\n",
      "['3', '4']\n",
      "[1, 2, '3', '4']\n",
      "<class 'list'> <class 'list'> <class 'list'>\n"
     ]
    }
   ],
   "source": [
    "list_number = [1, 2]\n",
    "list_string = ['3', '4']\n",
    "list_mixed = [1, 2, '3', '4']\n",
    "\n",
    "print(list_number)\n",
    "print(list_string)\n",
    "print(list_mixed)\n",
    "print(type(list_number), type(list_string), type(list_mixed))"
   ]
  },
  {
   "cell_type": "code",
   "execution_count": 32,
   "id": "detected-sewing",
   "metadata": {},
   "outputs": [
    {
     "name": "stdout",
     "output_type": "stream",
     "text": [
      "[1, 1, 2]\n",
      "[0, 1, 2]\n"
     ]
    }
   ],
   "source": [
    "list_012 = [1, 1, 2]\n",
    "print(list_012)\n",
    "\n",
    "list_012[0] = 0\n",
    "print(list_012)"
   ]
  },
  {
   "cell_type": "code",
   "execution_count": 39,
   "id": "partial-stable",
   "metadata": {},
   "outputs": [
    {
     "name": "stdout",
     "output_type": "stream",
     "text": [
      "[-2, -1, 1, 2, 3]\n",
      "[-2, -1, 1, 2, 3, 4]\n",
      "[-2, -1, 0, 1, 2, 3, 4]\n",
      "[-2, 0, 1, 2, 3, 4]\n",
      "[0, 1, 2, 3, 4]\n"
     ]
    }
   ],
   "source": [
    "list_01234 = [-2, -1, 1, 2, 3]\n",
    "print(list_01234)\n",
    "\n",
    "list_01234.append(4)\n",
    "print(list_01234)\n",
    "\n",
    "list_01234.insert(2, 0)\n",
    "print(list_01234)\n",
    "\n",
    "list_01234.remove(-1)\n",
    "print(list_01234)\n",
    "\n",
    "list_01234.pop(0)\n",
    "print(list_01234)"
   ]
  },
  {
   "cell_type": "markdown",
   "id": "scientific-gilbert",
   "metadata": {},
   "source": [
    "### 8) 딕셔너리 (dictionary)"
   ]
  },
  {
   "cell_type": "code",
   "execution_count": 34,
   "id": "respected-stroke",
   "metadata": {},
   "outputs": [
    {
     "name": "stdout",
     "output_type": "stream",
     "text": [
      "{'first_name': '단테', 'last_name': '안'}\n",
      "단테\n",
      "안\n",
      "<class 'dict'>\n"
     ]
    }
   ],
   "source": [
    "dict_profile = {\"first_name\" : \"단테\", \"last_name\" : \"안\"}    # key : value\n",
    "\n",
    "print(dict_profile)\n",
    "print(dict_profile[\"first_name\"])\n",
    "print(dict_profile[\"last_name\"])\n",
    "print(type(dict_profile))"
   ]
  },
  {
   "cell_type": "code",
   "execution_count": 36,
   "id": "black-narrow",
   "metadata": {},
   "outputs": [
    {
     "name": "stdout",
     "output_type": "stream",
     "text": [
      "{'first_name': '단테', 'last_name': '안'}\n",
      "{'first_name': '단테', 'last_name': '안', 'gender': 'male'}\n",
      "{'first_name': '단테', 'gender': 'male'}\n"
     ]
    }
   ],
   "source": [
    "dict_profile = {\"first_name\" : \"단테\", \"last_name\" : \"안\"}\n",
    "print(dict_profile)\n",
    "\n",
    "dict_profile[\"gender\"] = \"male\"\n",
    "print(dict_profile)\n",
    "\n",
    "dict_profile.pop(\"last_name\")\n",
    "print(dict_profile)"
   ]
  },
  {
   "cell_type": "code",
   "execution_count": 37,
   "id": "durable-highway",
   "metadata": {},
   "outputs": [
    {
     "name": "stdout",
     "output_type": "stream",
     "text": [
      "first_name\n",
      "last_name\n",
      "\n",
      "first_name : 단테\n",
      "last_name : 안\n"
     ]
    }
   ],
   "source": [
    "dict_profile = {\"first_name\" : \"단테\", \"last_name\" : \"안\"}\n",
    "\n",
    "for key in dict_profile:\n",
    "    print(key)\n",
    "print()\n",
    "\n",
    "for key, value in dict_profile.items():\n",
    "    print(key + \" : \" + value)"
   ]
  }
 ],
 "metadata": {
  "kernelspec": {
   "display_name": "aiffel",
   "language": "python",
   "name": "aiffel"
  },
  "language_info": {
   "codemirror_mode": {
    "name": "ipython",
    "version": 3
   },
   "file_extension": ".py",
   "mimetype": "text/x-python",
   "name": "python",
   "nbconvert_exporter": "python",
   "pygments_lexer": "ipython3",
   "version": "3.7.9"
  }
 },
 "nbformat": 4,
 "nbformat_minor": 5
}
