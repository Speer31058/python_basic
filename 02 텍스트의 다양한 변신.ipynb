{
 "cells": [
  {
   "cell_type": "markdown",
   "id": "amino-trainer",
   "metadata": {},
   "source": [
    "# 02. 텍스트의 다양한 변신 (문자열, 파일 다루기)\n",
    "### [ 목차 ]\n",
    "#### 1. 문자열 다루기\n",
    "#### 2. 정규 표현식\n",
    "#### 3. 파일\n",
    "#### 4. csv 파일"
   ]
  },
  {
   "cell_type": "markdown",
   "id": "alive-graphic",
   "metadata": {},
   "source": [
    "## 1. 문자열 다루기"
   ]
  },
  {
   "cell_type": "code",
   "execution_count": 3,
   "id": "seasonal-perception",
   "metadata": {},
   "outputs": [
    {
     "name": "stdout",
     "output_type": "stream",
     "text": [
      "사회적\n",
      "거리두기\n",
      "\n",
      "사회적\t거리두기\n",
      "\n",
      "사회적'거리두기\n",
      "\n",
      "사회적\"거리두기\n",
      "\n",
      "사회적\\거리두기\n",
      "\n"
     ]
    }
   ],
   "source": [
    "# 줄바꿈\n",
    "print(\"사회적\\n거리두기\")\n",
    "print()\n",
    "\n",
    "# 탭\n",
    "print(\"사회적\\t거리두기\")\n",
    "print()\n",
    "\n",
    "# 홑따옴표\n",
    "print(\"사회적\\'거리두기\")\n",
    "print()\n",
    "\n",
    "# 곁따옴표\n",
    "print(\"사회적\\\"거리두기\")\n",
    "print()\n",
    "\n",
    "# 백슬래시\n",
    "print(\"사회적\\\\거리두기\")\n",
    "print()"
   ]
  },
  {
   "cell_type": "code",
   "execution_count": 4,
   "id": "detected-concord",
   "metadata": {},
   "outputs": [
    {
     "name": "stdout",
     "output_type": "stream",
     "text": [
      "['OB94382', 'OB32308', 'OB83461', 'OB74830', 'OB82345']\n",
      "['OW34723', 'OW37402', 'OW11235']\n"
     ]
    }
   ],
   "source": [
    "EmployeeID = ['OB94382', 'OW34723', 'OB32308', 'OB83461', 'OB74830', 'OW37402', 'OW11235', 'OB82345']\n",
    "\n",
    "Production_Employee = [p for p in EmployeeID if p.startswith(\"OB\")]\n",
    "Office_Employee = [o for o in EmployeeID if o.startswith(\"OW\")]\n",
    "\n",
    "print(Production_Employee)\n",
    "print(Office_Employee)"
   ]
  },
  {
   "cell_type": "code",
   "execution_count": 7,
   "id": "collective-turtle",
   "metadata": {},
   "outputs": [
    {
     "name": "stdout",
     "output_type": "stream",
     "text": [
      "['deque_full_.png', 'stack_full.png', 'circlequeue_full.png', 'pop_front.png', 'dequeue.png', 'pop_rear.png', 'queue.png', 'circlequeue_enqueue.png', 'circlequeue_dequeue.png', 'push_front.png', 'stack_push.png', 'stack_pop.png', 'stack.png', 'push_rear.png', 'circlequeue.png', 'queue_full.png', 'deque.png', 'stack.jpg', 'enqueue.png', 'deque_full.png', 'queue.jpg']\n",
      "['stack.jpg', 'queue.jpg']\n"
     ]
    }
   ],
   "source": [
    "import os\n",
    "\n",
    "file_list = os.listdir(\"/home/aiffel-dj41/aiffel/codingMaster/image\")\n",
    "print(file_list)\n",
    "\n",
    "jpg = [jpg for jpg in file_list if jpg.endswith(\".jpg\")]\n",
    "print(jpg)"
   ]
  },
  {
   "cell_type": "code",
   "execution_count": 12,
   "id": "innovative-intersection",
   "metadata": {},
   "outputs": [
    {
     "name": "stdout",
     "output_type": "stream",
     "text": [
      "=====HELLO=====\n",
      "HELLO\n",
      "HELLO=====\n",
      "=====HELLO\n"
     ]
    }
   ],
   "source": [
    "txt = \"=====HELLO=====\"\n",
    "print(txt)\n",
    "\n",
    "# strip()\n",
    "print(txt.strip(\"=\"))\n",
    "\n",
    "# lsrtip()\n",
    "print(txt.lstrip(\"=\"))\n",
    "\n",
    "# rstrip()\n",
    "print(txt.rstrip(\"=\"))"
   ]
  },
  {
   "cell_type": "code",
   "execution_count": 14,
   "id": "collectible-queensland",
   "metadata": {},
   "outputs": [
    {
     "name": "stdout",
     "output_type": "stream",
     "text": [
      "I fell into AIFFEL.\n",
      "I FELL INTO AIFFEL.\n",
      "i fell into aiffel.\n",
      "I fell into aiffel.\n"
     ]
    }
   ],
   "source": [
    "txt = \"I fell into AIFFEL.\"\n",
    "print(txt)\n",
    "\n",
    "# upper()\n",
    "print(txt.upper())\n",
    "\n",
    "# lower()\n",
    "print(txt.lower())\n",
    "\n",
    "# capitalize()\n",
    "print(txt.capitalize())"
   ]
  },
  {
   "cell_type": "code",
   "execution_count": 19,
   "id": "alone-dress",
   "metadata": {},
   "outputs": [
    {
     "name": "stdout",
     "output_type": "stream",
     "text": [
      "False\n",
      "True\n",
      "True\n",
      "False\n",
      "True\n",
      "True\n"
     ]
    }
   ],
   "source": [
    "print(\"aiffel\".isupper())    # 모두 대문자\n",
    "print(\"aiffel\".islower())    # 모두 소문자\n",
    "print(\"Python\".istitle())    # 첫 글자만 대문자\n",
    "print(\"python101\".isalpha())    # 모두 알파벳\n",
    "print(\"101\".isdecimal())    # 모두 숫자\n",
    "print(\"python101\".isalnum())    # 모두 알파벳 + 숫자"
   ]
  },
  {
   "cell_type": "code",
   "execution_count": 24,
   "id": "separate-combination",
   "metadata": {},
   "outputs": [
    {
     "name": "stdout",
     "output_type": "stream",
     "text": [
      "['fundamentals', 'exploration', 'goingdeeper']\n",
      "fundamentals, exploration, goingdeeper\n"
     ]
    }
   ],
   "source": [
    "stages = ['fundamentals', 'exploration', 'goingdeeper']\n",
    "print(stages)\n",
    "\n",
    "stages_join = \", \".join(stages)\n",
    "print(stages_join)"
   ]
  },
  {
   "cell_type": "code",
   "execution_count": 27,
   "id": "metric-federation",
   "metadata": {},
   "outputs": [
    {
     "name": "stdout",
     "output_type": "stream",
     "text": [
      "fundamentals, exploration, goingdeeper\n",
      "['fundamentals', 'exploration', 'goingdeeper']\n"
     ]
    }
   ],
   "source": [
    "stages = 'fundamentals, exploration, goingdeeper'\n",
    "print(stages)\n",
    "\n",
    "stages_split = stages.split(\", \")\n",
    "print(stages_split)"
   ]
  },
  {
   "cell_type": "code",
   "execution_count": 31,
   "id": "digital-jacksonville",
   "metadata": {},
   "outputs": [
    {
     "name": "stdout",
     "output_type": "stream",
     "text": [
      "I can do it!\n",
      "You can do it!\n"
     ]
    }
   ],
   "source": [
    "sent = \"I can do it!\"\n",
    "print(sent)\n",
    "\n",
    "sent_replace = sent.replace(\"I\", \"You\")\n",
    "print(sent_replace)"
   ]
  },
  {
   "cell_type": "markdown",
   "id": "imperial-bhutan",
   "metadata": {},
   "source": [
    "## 2. 정규 표현식"
   ]
  },
  {
   "cell_type": "code",
   "execution_count": 32,
   "id": "becoming-cookie",
   "metadata": {},
   "outputs": [
    {
     "name": "stdout",
     "output_type": "stream",
     "text": [
      "You can do it!\n"
     ]
    }
   ],
   "source": [
    "import re\n",
    "\n",
    "sent = \"I can do it!\"\n",
    "pattern = re.sub(\"I\", \"You\", sent)\n",
    "\n",
    "print(pattern)"
   ]
  },
  {
   "cell_type": "code",
   "execution_count": 34,
   "id": "whole-exclusion",
   "metadata": {},
   "outputs": [
    {
     "name": "stdout",
     "output_type": "stream",
     "text": [
      "['the', 'the', 'the']\n",
      "['the', 'the', 'the']\n"
     ]
    }
   ],
   "source": [
    "pattern = re.compile(\"the\")    # 찾고자 하는 문자열 패턴\n",
    "\n",
    "print(pattern.findall(\"of the people, for the people, by the people\"))\n",
    "\n",
    "print(re.findall(\"the\", \"of the people, for the people, by the people\"))"
   ]
  },
  {
   "cell_type": "code",
   "execution_count": 37,
   "id": "silent-witch",
   "metadata": {},
   "outputs": [
    {
     "name": "stdout",
     "output_type": "stream",
     "text": [
      "['1993', '1995', '2019', '2000', '2002', '2013', '2015', '2017']\n"
     ]
    }
   ],
   "source": [
    "text = \"\"\"\n",
    "The first season of America Premiere League  was played in 1993. \n",
    "The second season was played in 1995 in South Africa. \n",
    "Last season was played in 2019 and won by Chennai Super Kings (CSK).\n",
    "CSK won the title in 2000 and 2002 as well.\n",
    "Mumbai Indians (MI) has also won the title 3 times in 2013, 2015 and 2017.\n",
    "\"\"\"\n",
    "\n",
    "pattern = re.compile(\"[1-2]\\d\\d\\d\")\n",
    "print(pattern.findall(text))"
   ]
  },
  {
   "cell_type": "code",
   "execution_count": 44,
   "id": "crude-detail",
   "metadata": {},
   "outputs": [
    {
     "name": "stdout",
     "output_type": "stream",
     "text": [
      "['010-111-1111']\n"
     ]
    }
   ],
   "source": [
    "text = 'This is my phone number 010-111-1111'\n",
    "pattern = re.compile(r\"[0-9]+-[0-9]+-[0-9]+\")\n",
    "\n",
    "print(pattern.findall(text))"
   ]
  },
  {
   "cell_type": "code",
   "execution_count": 45,
   "id": "established-baptist",
   "metadata": {},
   "outputs": [
    {
     "name": "stdout",
     "output_type": "stream",
     "text": [
      "['doingharu@aiffel.com', 'tomorrow@aiffel.com']\n"
     ]
    }
   ],
   "source": [
    "text = \"My e-mail adress is doingharu@aiffel.com, and tomorrow@aiffel.com\"\n",
    "pattern = re.compile(r\"[0-9a-zA-Z]+@[0-9a-zA-Z]+\\.[0-9a-zA-Z]+\")\n",
    "\n",
    "print(pattern.findall(text))"
   ]
  },
  {
   "cell_type": "markdown",
   "id": "necessary-species",
   "metadata": {},
   "source": [
    "## 3. 파일"
   ]
  },
  {
   "cell_type": "code",
   "execution_count": 59,
   "id": "sophisticated-railway",
   "metadata": {},
   "outputs": [
    {
     "name": "stdout",
     "output_type": "stream",
     "text": [
      "파일 쓰기 완료!\n"
     ]
    }
   ],
   "source": [
    "f = open(\"hello.txt\", \"w\")\n",
    "\n",
    "for i in range(5):\n",
    "    line = \"{}번째 줄입니다.\\n\".format(i)\n",
    "    f.write(line)\n",
    "    \n",
    "f.close()\n",
    "\n",
    "print(\"파일 쓰기 완료!\")"
   ]
  },
  {
   "cell_type": "code",
   "execution_count": 60,
   "id": "norwegian-wound",
   "metadata": {},
   "outputs": [
    {
     "name": "stdout",
     "output_type": "stream",
     "text": [
      "0번째 줄입니다.\n",
      "\n",
      "1번째 줄입니다.\n",
      "\n",
      "2번째 줄입니다.\n",
      "\n",
      "3번째 줄입니다.\n",
      "\n",
      "4번째 줄입니다.\n",
      "\n",
      "파일 읽기 완료!\n"
     ]
    }
   ],
   "source": [
    "f = open(\"hello.txt\", \"r\")\n",
    "\n",
    "lines = f.readlines()\n",
    "for line in lines:\n",
    "    print(line)\n",
    "\n",
    "f.close()\n",
    "\n",
    "print(\"파일 읽기 완료!\")\n"
   ]
  },
  {
   "cell_type": "code",
   "execution_count": 61,
   "id": "hindu-appreciation",
   "metadata": {},
   "outputs": [
    {
     "name": "stdout",
     "output_type": "stream",
     "text": [
      "0번째 줄입니다.\n",
      "\n",
      "1번째 줄입니다.\n",
      "\n",
      "2번째 줄입니다.\n",
      "\n",
      "3번째 줄입니다.\n",
      "\n",
      "4번째 줄입니다.\n",
      "\n",
      "파일 읽기 완료!\n"
     ]
    }
   ],
   "source": [
    "f = open(\"hello.txt\", \"r\")\n",
    "\n",
    "while True:\n",
    "    line = f.readline()\n",
    "    if not line:\n",
    "        break\n",
    "    print(line)\n",
    "\n",
    "f.close()\n",
    "\n",
    "print(\"파일 읽기 완료!\")\n"
   ]
  },
  {
   "cell_type": "markdown",
   "id": "hourly-private",
   "metadata": {},
   "source": [
    "## 4. csv 파일"
   ]
  },
  {
   "cell_type": "code",
   "execution_count": 66,
   "id": "developed-liability",
   "metadata": {},
   "outputs": [
    {
     "name": "stdout",
     "output_type": "stream",
     "text": [
      "파일 쓰기 완료!\n"
     ]
    },
    {
     "data": {
      "text/html": [
       "<div>\n",
       "<style scoped>\n",
       "    .dataframe tbody tr th:only-of-type {\n",
       "        vertical-align: middle;\n",
       "    }\n",
       "\n",
       "    .dataframe tbody tr th {\n",
       "        vertical-align: top;\n",
       "    }\n",
       "\n",
       "    .dataframe thead th {\n",
       "        text-align: right;\n",
       "    }\n",
       "</style>\n",
       "<table border=\"1\" class=\"dataframe\">\n",
       "  <thead>\n",
       "    <tr style=\"text-align: right;\">\n",
       "      <th></th>\n",
       "      <th>title</th>\n",
       "      <th>singer</th>\n",
       "      <th>released data</th>\n",
       "    </tr>\n",
       "  </thead>\n",
       "  <tbody>\n",
       "    <tr>\n",
       "      <th>0</th>\n",
       "      <td>Tho Box</td>\n",
       "      <td>Roddy Ricch</td>\n",
       "      <td>2019-12-19</td>\n",
       "    </tr>\n",
       "    <tr>\n",
       "      <th>1</th>\n",
       "      <td>Don't Start Now</td>\n",
       "      <td>Dua Lipa</td>\n",
       "      <td>2019-11-01</td>\n",
       "    </tr>\n",
       "    <tr>\n",
       "      <th>2</th>\n",
       "      <td>Life Is Good</td>\n",
       "      <td>Future Featuring Drake</td>\n",
       "      <td>2020-02-10</td>\n",
       "    </tr>\n",
       "    <tr>\n",
       "      <th>3</th>\n",
       "      <td>Blinding</td>\n",
       "      <td>The Weeknd</td>\n",
       "      <td>2019-11-29</td>\n",
       "    </tr>\n",
       "    <tr>\n",
       "      <th>4</th>\n",
       "      <td>Circles</td>\n",
       "      <td>Post Malone</td>\n",
       "      <td>2019-08-30</td>\n",
       "    </tr>\n",
       "  </tbody>\n",
       "</table>\n",
       "</div>"
      ],
      "text/plain": [
       "             title                  singer released data\n",
       "0          Tho Box             Roddy Ricch    2019-12-19\n",
       "1  Don't Start Now                Dua Lipa    2019-11-01\n",
       "2     Life Is Good  Future Featuring Drake    2020-02-10\n",
       "3         Blinding              The Weeknd    2019-11-29\n",
       "4          Circles             Post Malone    2019-08-30"
      ]
     },
     "execution_count": 66,
     "metadata": {},
     "output_type": "execute_result"
    }
   ],
   "source": [
    "import pandas as pd\n",
    "\n",
    "fields = [\"title\", \"singer\", \"released data\"]\n",
    "rows = [ [\"Tho Box\",\"Roddy Ricch\",\"2019-12-19\"],\n",
    "         [\"Don't Start Now\", \"Dua Lipa\", \"2019-11-01\"],\n",
    "         [\"Life Is Good\", \"Future Featuring Drake\", \"2020-02-10\"],\n",
    "         [\"Blinding\", \"The Weeknd\", \"2019-11-29\"],\n",
    "         [\"Circles\", \"Post Malone\",\"2019-08-30\"] ]\n",
    "\n",
    "df = pd.DataFrame(rows, columns=fields)\n",
    "df.to_csv(\"pandas.csv\", index=False)\n",
    "\n",
    "print(\"파일 쓰기 완료!\")\n",
    "\n",
    "df"
   ]
  },
  {
   "cell_type": "code",
   "execution_count": 67,
   "id": "danish-solomon",
   "metadata": {},
   "outputs": [
    {
     "name": "stdout",
     "output_type": "stream",
     "text": [
      "파일 읽기 완료!\n"
     ]
    },
    {
     "data": {
      "text/html": [
       "<div>\n",
       "<style scoped>\n",
       "    .dataframe tbody tr th:only-of-type {\n",
       "        vertical-align: middle;\n",
       "    }\n",
       "\n",
       "    .dataframe tbody tr th {\n",
       "        vertical-align: top;\n",
       "    }\n",
       "\n",
       "    .dataframe thead th {\n",
       "        text-align: right;\n",
       "    }\n",
       "</style>\n",
       "<table border=\"1\" class=\"dataframe\">\n",
       "  <thead>\n",
       "    <tr style=\"text-align: right;\">\n",
       "      <th></th>\n",
       "      <th>title</th>\n",
       "      <th>singer</th>\n",
       "      <th>released data</th>\n",
       "    </tr>\n",
       "  </thead>\n",
       "  <tbody>\n",
       "    <tr>\n",
       "      <th>0</th>\n",
       "      <td>Tho Box</td>\n",
       "      <td>Roddy Ricch</td>\n",
       "      <td>2019-12-19</td>\n",
       "    </tr>\n",
       "    <tr>\n",
       "      <th>1</th>\n",
       "      <td>Don't Start Now</td>\n",
       "      <td>Dua Lipa</td>\n",
       "      <td>2019-11-01</td>\n",
       "    </tr>\n",
       "    <tr>\n",
       "      <th>2</th>\n",
       "      <td>Life Is Good</td>\n",
       "      <td>Future Featuring Drake</td>\n",
       "      <td>2020-02-10</td>\n",
       "    </tr>\n",
       "    <tr>\n",
       "      <th>3</th>\n",
       "      <td>Blinding</td>\n",
       "      <td>The Weeknd</td>\n",
       "      <td>2019-11-29</td>\n",
       "    </tr>\n",
       "    <tr>\n",
       "      <th>4</th>\n",
       "      <td>Circles</td>\n",
       "      <td>Post Malone</td>\n",
       "      <td>2019-08-30</td>\n",
       "    </tr>\n",
       "  </tbody>\n",
       "</table>\n",
       "</div>"
      ],
      "text/plain": [
       "             title                  singer released data\n",
       "0          Tho Box             Roddy Ricch    2019-12-19\n",
       "1  Don't Start Now                Dua Lipa    2019-11-01\n",
       "2     Life Is Good  Future Featuring Drake    2020-02-10\n",
       "3         Blinding              The Weeknd    2019-11-29\n",
       "4          Circles             Post Malone    2019-08-30"
      ]
     },
     "execution_count": 67,
     "metadata": {},
     "output_type": "execute_result"
    }
   ],
   "source": [
    "import csv\n",
    "\n",
    "df = pd.read_csv(\"pandas.csv\")\n",
    "\n",
    "print(\"파일 읽기 완료!\")\n",
    "\n",
    "df"
   ]
  }
 ],
 "metadata": {
  "kernelspec": {
   "display_name": "aiffel",
   "language": "python",
   "name": "aiffel"
  },
  "language_info": {
   "codemirror_mode": {
    "name": "ipython",
    "version": 3
   },
   "file_extension": ".py",
   "mimetype": "text/x-python",
   "name": "python",
   "nbconvert_exporter": "python",
   "pygments_lexer": "ipython3",
   "version": "3.7.9"
  }
 },
 "nbformat": 4,
 "nbformat_minor": 5
}
